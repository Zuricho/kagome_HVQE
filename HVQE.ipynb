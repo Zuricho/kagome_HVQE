{
 "cells": [
  {
   "cell_type": "markdown",
   "metadata": {},
   "source": [
    "# Hisenberg VQE\n",
    "\n",
    "A jupyter notebook version of HVQE code, you just run it with `Shift`+`Enter`!\n",
    "\n",
    "## Environment Requirement\n",
    "\n",
    "Needed package list:\n",
    "\n",
    "- cupy\n",
    "- chainer\n",
    "- scipy\n",
    "- matplotlib, numpy"
   ]
  },
  {
   "cell_type": "code",
   "execution_count": 1,
   "metadata": {},
   "outputs": [
    {
     "name": "stdout",
     "output_type": "stream",
     "text": [
      "CuPy installation found, continuing using GPU acceleration.\n"
     ]
    }
   ],
   "source": [
    "import qem\n",
    "import _HVQE\n",
    "from time import time\n",
    "import os,sys,pickle\n",
    "import chainer as ch \n",
    "import numpy as np\n",
    "from datetime import datetime"
   ]
  },
  {
   "cell_type": "code",
   "execution_count": 2,
   "metadata": {},
   "outputs": [],
   "source": [
    "# Definations\n",
    "job_name = \"chain_10\"     # choices: kagome_open, kagome_periodic, triangular, test\n",
    "input_graph = \"./input/graph_input_%s.txt\"%job_name\n",
    "output_path = \"./output/\"+job_name\n",
    "k = 10       # Number of lowest energy eigenstates\n",
    "\n",
    "\n",
    "\n",
    "if not os.path.exists(output_path):\n",
    "    os.mkdir(output_path)"
   ]
  },
  {
   "cell_type": "code",
   "execution_count": 3,
   "metadata": {},
   "outputs": [],
   "source": [
    "return_state=True\n",
    "\n",
    "\n",
    "with open(input_graph, 'r') as file:\n",
    "    exec(file.read())\n",
    "    \n",
    "complete_graph=complete_graph_input\n",
    "del complete_graph_input"
   ]
  },
  {
   "cell_type": "code",
   "execution_count": 4,
   "metadata": {},
   "outputs": [
    {
     "name": "stdout",
     "output_type": "stream",
     "text": [
      "\n",
      "--------------------------------------------------\n",
      "Computing the 10 lowest energies of chain_10\n",
      "The 10 lowest energies are [-4.51544635 -4.09220735 -4.09220735 -4.09220735 -3.77059744 -3.54327937\n",
      " -3.54327937 -3.54327937 -3.54327937 -3.54327937]\n",
      "Solutions found using using ARPACK, in a total of 2.4591262340545654 seconds\n",
      "--------------------------------------------------\n",
      " \n"
     ]
    }
   ],
   "source": [
    "# Run ground state\n",
    "print('')\n",
    "print('--------------------------------------------------')\n",
    "print('Computing the', k, 'lowest energies of',job_name)\n",
    "start=time()\n",
    "output=qem.ground_state(complete_graph,k,return_state)\n",
    "if qem.GPU==True: qem.sync()\n",
    "end=time()\n",
    "if return_state==False:\n",
    "    print('The', k, 'lowest energies are', output)\n",
    "if return_state==True:\n",
    "    print('The', k, 'lowest energies are', output[0])\n",
    "print('Solutions found using using ARPACK, in a total of', end-start, 'seconds')\n",
    "print('--------------------------------------------------')\n",
    "print(' ')"
   ]
  },
  {
   "cell_type": "code",
   "execution_count": 5,
   "metadata": {},
   "outputs": [],
   "source": [
    "return_state=True\n",
    "\n",
    "## Write gs energy to disk\n",
    "if return_state==False:\n",
    "    np.savetxt(output_path+'/lowest_energies.txt',output)\n",
    "else:\n",
    "    np.savetxt(output_path+'/lowest_energies.txt',output[0])\n",
    "    # Write gs itself to disk if return_state is True\n",
    "    with open(output_path+'/gs.dat', 'wb') as file:\n",
    "        pickle.dump(output[1][:,0],file,protocol=4)"
   ]
  },
  {
   "cell_type": "code",
   "execution_count": 6,
   "metadata": {},
   "outputs": [],
   "source": [
    "class Name:\n",
    "    pass\n",
    "\n",
    "class Parameters:\n",
    "    pass\n",
    "\n",
    "# cmd_args=_HVQE.get_command_line_input()\n",
    "run_args=Name()\n",
    "cmd_args=Parameters()\n",
    "cmd_args.n_par = 30            # number of parameters to be used in the VQE\n",
    "cmd_args.par_multiplicity = 1  # The parameter multiplicity\n",
    "cmd_args.n_iter = 1            # Number of iterations of the basinhopping routine\n",
    "cmd_args.cost_fn = 'energy'    # or 'infidelity'\n",
    "cmd_args.temperature = 1.      # Temperature for the metropolis creterion in the scipy basinhopping routine\n",
    "cmd_args.stepsize = 1.         # max stepsize of random displacement per parameter after each local optimization in the scipy basinhopping routine\n",
    "cmd_args.init_par = None       # A list of initial parameters from which the basinhopping routine starts\n",
    "cmd_args.dump_interval = None  # Dump the state of the program to path/dump.dat every dump_interval function calls"
   ]
  },
  {
   "cell_type": "code",
   "execution_count": 7,
   "metadata": {},
   "outputs": [],
   "source": [
    "try: # Use GPU if CuPy installation is available. \n",
    "    import cupy as xp\n",
    "    run_args.GPU=True\n",
    "except ImportError:\n",
    "    import numpy as xp\n",
    "    run_args.GPU=False\n",
    "\n",
    "# Make timestamp in UTC of start\n",
    "run_args.date_start=str(datetime.utcnow())"
   ]
  },
  {
   "cell_type": "code",
   "execution_count": 8,
   "metadata": {},
   "outputs": [],
   "source": [
    "# Load the ansatz from graph_input.txt\n",
    "with open(input_graph, 'r') as file:\n",
    "    exec(file.read())\n",
    "run_args.complete_graph=complete_graph_input\n",
    "run_args.init_layer=init_layer_input\n",
    "run_args.layers =layers_input\n",
    "del complete_graph_input\n",
    "del init_layer_input\n",
    "del layers_input\n",
    "\n",
    "# Get the number of qubits from the complete_graph.\n",
    "nodes=[node for edge in run_args.complete_graph for node in edge]\n",
    "nodes=set(nodes)\n",
    "run_args.n=len(nodes)\n",
    "del nodes"
   ]
  },
  {
   "cell_type": "code",
   "execution_count": 9,
   "metadata": {},
   "outputs": [
    {
     "name": "stdout",
     "output_type": "stream",
     "text": [
      "Started basinhopping at 2021-12-19 09:52:18.699887 UTC\n"
     ]
    }
   ],
   "source": [
    "# Load the true ground state into memory for computation of infidelities. \n",
    "gs_reg=qem.Reg(run_args.n)\n",
    "with open(output_path+'/gs.dat','rb') as file:\n",
    "    gs_reg.psi.re=xp.array(pickle.load(file)).reshape((2,)*run_args.n)  \n",
    "\n",
    "# Print info about current run to stdout.    \n",
    "print('Started basinhopping at',run_args.date_start, 'UTC')"
   ]
  },
  {
   "cell_type": "code",
   "execution_count": 10,
   "metadata": {},
   "outputs": [],
   "source": [
    "# Prepare the init_reg, whose state is a dimer covering of run_args.complete_graph, as specified by run_args.init_layer.\n",
    "init_reg=qem.Reg(run_args.n)   \n",
    "for edge in run_args.init_layer:\n",
    "    qem.apply_prepare_singlet(edge,init_reg)"
   ]
  },
  {
   "cell_type": "code",
   "execution_count": 11,
   "metadata": {},
   "outputs": [
    {
     "name": "stdout",
     "output_type": "stream",
     "text": [
      "................................................................................................................................................................................................................................\n",
      "New local min for {'n_par': 30, 'par_multiplicity': 1, 'n_iter': 1, 'cost_fn': 'energy', 'temperature': 1.0, 'stepsize': 1.0, 'init_par': None, 'dump_interval': None}\n",
      "cost= -4.503763569919035 accepted= True parameters= [0.09783364475892735, -2.3504714997424148, -1.2125973380558401, -0.8998409372291543, -0.3934698547563028, -2.8583297479269922, -2.285549688150928, 1.7474512666045974, -0.05604775416680963, -0.36183560598894215, -1.9614146317501282, 1.6240325164186025, -0.16789935167565986, 1.2933476664049595, -0.38710607129676333, -2.729503123031223, -0.7304306374951278, 0.385050192202262, -1.79603398051288, 1.1287906571647808, -1.483914450465724, -0.4222099487876814, -0.31705646528468273, -1.3898539461995176, -0.3878070169891705, -0.2506027086038359, 0.1363918051660985, -1.5427921382413212, -0.08175589262643904, -1.87754843412582]\n",
      ".......................................................................................................\n",
      "New local min for {'n_par': 30, 'par_multiplicity': 1, 'n_iter': 1, 'cost_fn': 'energy', 'temperature': 1.0, 'stepsize': 1.0, 'init_par': None, 'dump_interval': None}\n",
      "cost= -4.505244670786499 accepted= True parameters= [0.11588058965019063, -2.3541925927912937, -1.2265839110354513, -1.1483773105924935, -0.22127233951894523, -3.090582159260782, -2.265628229410724, 1.7411891312099876, 0.1804791659482453, -0.47312611996550885, -1.9374852692026427, 1.6682065724657391, -0.15851854570840282, 0.561731963819572, -0.28520061982298667, -2.714620841968732, -0.718612255242494, 0.4729889565500564, -1.9718100116541237, -1.0582026739120827, -1.489895064339037, -0.45630526906164415, -0.33014015322068013, -1.3573581534750865, -0.3727256330539785, -0.27589345929064735, 0.1312356809388202, -1.583432037075493, -0.08914349378394802, -1.8512872202767627]\n"
     ]
    }
   ],
   "source": [
    "#RUN THE VQE\n",
    "run_args.start=time()\n",
    "\n",
    "global reg_psi_list\n",
    "reg_psi_list = []\n",
    "\n",
    "global reg_psi\n",
    "reg_psi = None\n",
    "\n",
    "vqe_out,reg_psi=_HVQE.run_VQE(cmd_args,run_args,init_reg,gs_reg,reg_psi_list)\n",
    "reg_psi_list.append(reg_psi)\n",
    "\n",
    "if run_args.GPU==True:\n",
    "    qem.sync()\n",
    "run_args.end=time() \n",
    "# Wall-clock time of VQE (hours) \n",
    "run_args.wall_clock=(run_args.end-run_args.start)/60/60 \n"
   ]
  },
  {
   "cell_type": "code",
   "execution_count": 12,
   "metadata": {},
   "outputs": [
    {
     "name": "stdout",
     "output_type": "stream",
     "text": [
      " \n",
      "==========================================================================================\n",
      "Finished basinhopping of  ./output/chain_10 at 2021-12-19 09:54:29.743201 UTC, with\n",
      " \n",
      "{'n_par': 30, 'par_multiplicity': 1, 'n_iter': 1, 'cost_fn': 'energy', 'temperature': 1.0, 'stepsize': 1.0, 'init_par': None, 'dump_interval': None}\n",
      "init_par = [-0.0004357176818871075, -9.921974386854185e-05, 2.310061832489082e-05, 0.0004862562506384022, 7.913402079173652e-05, 0.00015446400477489022, -0.0003250563324285214, 1.0475242969254332e-06, -0.0001626570877016409, -0.00046921688591861565, -2.2229271413807248e-05, -0.0004865066260163775, 0.0003171647225929669, -0.00015146581790133784, 0.0004891702243101077, 8.688114458075397e-05, 0.00041074081993068394, -0.0003777603441598987, -0.00020720721371171792, 0.00024663432005991815, -0.0002466314912237053, -0.0003950212770693196, -0.00033552168890819923, -0.00037172607807272885, 0.0003225499929728641, -0.0003499312528315501, -0.0002640789186457975, -0.0003346091583100437, -0.00023835792879619243, -0.00039359359349841683]\n",
      " \n",
      "RESULTS:\n",
      "--------\n",
      "E_VQE = -4.505244670786499\n",
      "inf_VQE = 0.0034578034475645225\n",
      "n_fn_calls = 327\n",
      "Wall-clock time 0.036288077102767095 hours\n",
      " \n",
      "For more output, see ./output/chain_10/output.txt\n",
      "Plots of output saved in ./output/chain_10\n",
      "End of HVQE.py\n",
      "==========================================================================================\n"
     ]
    }
   ],
   "source": [
    "# Get the infidelity and the energy of the final state irrespective of whether we used the energy or the infidelity as the cost functon.\n",
    "vqe_out.opt_parameters=ch.Variable(xp.array(vqe_out.opt_parameters))\n",
    "if cmd_args.cost_fn=='energy':\n",
    "    run_args.E_VQE=vqe_out.cost_VQE #Already a float\n",
    "    run_args.inf_VQE=_HVQE.infidelity_from_parameters(init_reg,run_args.layers,run_args.n,cmd_args.par_multiplicity,vqe_out.opt_parameters,gs_reg)\n",
    "    run_args.inf_VQE=float(run_args.inf_VQE.array)\n",
    "if cmd_args.cost_fn=='infidelity':\n",
    "    run_args.inf_VQE=vqe_out.cost_VQE #Already a float\n",
    "    run_args.E_VQE,reg_psi=_HVQE.Heisenberg_energy_from_parameters(run_args.complete_graph,init_reg,run_args.layers,run_args.n,cmd_args.par_multiplicity,vqe_out.opt_parameters)\n",
    "    run_args.E_VQE=float(run_args.E_VQE.array)\n",
    "\n",
    "vqe_out.opt_parameters=vqe_out.opt_parameters.array.tolist() #Convert for printing and storing.\n",
    "run_args.date_end=str(datetime.utcnow()) # End time in UTC\n",
    "\n",
    "\n",
    "# Write input and results to disk. If no former output exists, print a line explaining the data in the output file.\n",
    "\n",
    "output=str([vars(cmd_args),vars(run_args),vars(vqe_out)])\n",
    "\n",
    "if not os.path.exists(output_path+'/output_ground.txt'):\n",
    "    f=open(output_path+'/output_ground.txt', 'w')\n",
    "    f.write(\"### Output of the VQEs is written to this file. Note that the first local minimum is not included in the lists local_min_list,local_min_parameters_list and local_min_accept_list. See the comment at de function definition of 'callback' inside HVQE.py \\n\")\n",
    "with open(output_path+'/output_ground.txt', 'a') as f:\n",
    "    f.write(output+'\\n\\n')\n",
    "\n",
    "print(' ')\n",
    "print('==========================================================================================')\n",
    "print('Finished basinhopping of ',output_path, 'at',run_args.date_end,'UTC, with')\n",
    "print(' ')\n",
    "print(vars(cmd_args))\n",
    "print('init_par =', vqe_out.init_par)\n",
    "print(' ')\n",
    "print('RESULTS:')\n",
    "print('--------')\n",
    "print('E_VQE =',run_args.E_VQE)\n",
    "print('inf_VQE =',run_args.inf_VQE)\n",
    "print('n_fn_calls =',vqe_out.n_fn_calls)\n",
    "print('Wall-clock time', run_args.wall_clock, 'hours')\n",
    "print(' ')\n",
    "print('For more output, see',output_path+'/output.txt')\n",
    "print('Plots of output saved in',output_path)\n",
    "print('End of HVQE.py')\n",
    "print('==========================================================================================')"
   ]
  },
  {
   "cell_type": "code",
   "execution_count": 13,
   "metadata": {},
   "outputs": [
    {
     "name": "stdout",
     "output_type": "stream",
     "text": [
      "........................................................................................................................................................................................................................................................................................................................................................................................................................................................................................................................................................................................................................\n",
      "New local min for {'n_par': 30, 'par_multiplicity': 1, 'n_iter': 1, 'cost_fn': 'energy', 'temperature': 1.0, 'stepsize': 1.0, 'init_par': None, 'dump_interval': None}\n",
      "cost= -3.699114655736661 accepted= True parameters= [4.698296479860963, -0.7885909023089354, 0.0274855729449182, -1.8012313864931344, 1.4014401047493295, 3.3311754554798196, 1.6702006259136066, -0.920247378708893, 3.7957969963116507, -0.7265758644677477, 1.8156944678618234, 2.296348284523732, -0.044818007971063764, 4.299556092983116, -0.8361686509079455, 1.4259693514932437, 2.1662182790360025, 3.0009746488897373, -0.33489151405737494, 1.4428599867952512, 1.1194570601774485, 2.091911134610982, 0.023221265085623888, 0.7825261346651282, 5.532797542009212, -0.04460997117485807, 1.4149678752873769, 2.1782251710151015, -0.23847562267254577, -1.6961445166853275]\n",
      ".........................................................................................................................................................................................................................................................................................\n",
      "New local min for {'n_par': 30, 'par_multiplicity': 1, 'n_iter': 1, 'cost_fn': 'energy', 'temperature': 1.0, 'stepsize': 1.0, 'init_par': None, 'dump_interval': None}\n",
      "cost= -3.676099331064996 accepted= True parameters= [1.7467196586175193, -2.8749497772448738, -0.009782098240707112, -4.411617981689409, 1.3406895198873563, 2.9694722964444167, 0.7350400796325822, -2.481615415555135, 1.966033119279597, -0.7914399508318805, 1.9557638420972763, 2.5862471209502265, -0.0369054360372554, 4.327312966589432, -1.0905538315677061, 1.4583123508351128, 2.2216070134828567, 1.1765185777143539, -0.1798250087440796, 1.4164146511945777, 1.1444347708568434, 2.351388030765177, -0.09969446957531666, 0.8817547139478328, 5.475740463068874, -0.029517465380161558, 1.5266155938695174, 2.08280367045101, -0.3553112681412216, -1.702723925496185]\n"
     ]
    }
   ],
   "source": [
    "#RUN THE VQE\n",
    "run_args.start=time()\n",
    "\n",
    "vqe_out,reg_psi=_HVQE.run_VQE(cmd_args,run_args,init_reg,gs_reg,reg_psi_list)\n",
    "reg_psi_list.append(reg_psi)\n",
    "\n",
    "if run_args.GPU==True:\n",
    "    qem.sync()\n",
    "run_args.end=time() \n",
    "# Wall-clock time of VQE (hours) \n",
    "run_args.wall_clock=(run_args.end-run_args.start)/60/60 \n"
   ]
  },
  {
   "cell_type": "code",
   "execution_count": 14,
   "metadata": {},
   "outputs": [
    {
     "name": "stdout",
     "output_type": "stream",
     "text": [
      " \n",
      "==========================================================================================\n",
      "Finished basinhopping of  ./output/chain_10 at 2021-12-19 09:58:45.135832 UTC, with\n",
      " \n",
      "{'n_par': 30, 'par_multiplicity': 1, 'n_iter': 1, 'cost_fn': 'energy', 'temperature': 1.0, 'stepsize': 1.0, 'init_par': None, 'dump_interval': None}\n",
      "init_par = [-0.0004818769532590598, 0.000488027881060974, 0.00018009717934709376, -4.1470870679582246e-05, 4.73941089436001e-06, -0.0004918081570738314, -0.0003389948665584697, 0.0004092405364429265, 0.0004424573861797113, -7.726240932974017e-05, 0.00016025928482010148, -0.0004184641470363396, 0.0003900035988307711, 0.00017430310336540044, -0.00044647611805821177, -0.00026177556591358987, -5.437541229018762e-05, -2.423455678595435e-05, 0.0002621670849990218, 0.00044848540909872645, -0.00027353228208043914, 0.0003687407701256076, -0.00042585721517274645, -0.00023395022856052827, -6.076548498672532e-05, 0.00013368874145042132, -0.0004527650751712008, -0.000493677808508928, -8.595658569027144e-05, 0.0002839059655191788]\n",
      " \n",
      "RESULTS:\n",
      "--------\n",
      "E_VQE = -3.699114655736661\n",
      "inf_VQE = 0.9999533074990743\n",
      "n_fn_calls = 881\n",
      "Wall-clock time 0.07090097957187229 hours\n",
      " \n",
      "For more output, see ./output/chain_10/output.txt\n",
      "Plots of output saved in ./output/chain_10\n",
      "End of HVQE.py\n",
      "==========================================================================================\n"
     ]
    }
   ],
   "source": [
    "# Get the infidelity and the energy of the final state irrespective of whether we used the energy or the infidelity as the cost functon.\n",
    "vqe_out.opt_parameters=ch.Variable(xp.array(vqe_out.opt_parameters))\n",
    "if cmd_args.cost_fn=='energy':\n",
    "    run_args.E_VQE=vqe_out.cost_VQE #Already a float\n",
    "    run_args.inf_VQE=_HVQE.infidelity_from_parameters(init_reg,run_args.layers,run_args.n,cmd_args.par_multiplicity,vqe_out.opt_parameters,gs_reg)\n",
    "    run_args.inf_VQE=float(run_args.inf_VQE.array)\n",
    "if cmd_args.cost_fn=='infidelity':\n",
    "    run_args.inf_VQE=vqe_out.cost_VQE #Already a float\n",
    "    run_args.E_VQE,reg_psi=_HVQE.Heisenberg_energy_from_parameters(run_args.complete_graph,init_reg,run_args.layers,run_args.n,cmd_args.par_multiplicity,vqe_out.opt_parameters)\n",
    "    run_args.E_VQE=float(run_args.E_VQE.array)\n",
    "\n",
    "vqe_out.opt_parameters=vqe_out.opt_parameters.array.tolist() #Convert for printing and storing.\n",
    "run_args.date_end=str(datetime.utcnow()) # End time in UTC\n",
    "\n",
    "\n",
    "# Write input and results to disk. If no former output exists, print a line explaining the data in the output file.\n",
    "\n",
    "output=str([vars(cmd_args),vars(run_args),vars(vqe_out)])\n",
    "\n",
    "if not os.path.exists(output_path+'/output_excite1.txt'):\n",
    "    f=open(output_path+'/output_excite1.txt', 'w')\n",
    "    f.write(\"### Output of the VQEs is written to this file. Note that the first local minimum is not included in the lists local_min_list,local_min_parameters_list and local_min_accept_list. See the comment at de function definition of 'callback' inside HVQE.py \\n\")\n",
    "with open(output_path+'/output_excite1.txt', 'a') as f:\n",
    "    f.write(output+'\\n\\n')\n",
    "\n",
    "print(' ')\n",
    "print('==========================================================================================')\n",
    "print('Finished basinhopping of ',output_path, 'at',run_args.date_end,'UTC, with')\n",
    "print(' ')\n",
    "print(vars(cmd_args))\n",
    "print('init_par =', vqe_out.init_par)\n",
    "print(' ')\n",
    "print('RESULTS:')\n",
    "print('--------')\n",
    "print('E_VQE =',run_args.E_VQE)\n",
    "print('inf_VQE =',run_args.inf_VQE)\n",
    "print('n_fn_calls =',vqe_out.n_fn_calls)\n",
    "print('Wall-clock time', run_args.wall_clock, 'hours')\n",
    "print(' ')\n",
    "print('For more output, see',output_path+'/output.txt')\n",
    "print('Plots of output saved in',output_path)\n",
    "print('End of HVQE.py')\n",
    "print('==========================================================================================')"
   ]
  },
  {
   "cell_type": "code",
   "execution_count": 15,
   "metadata": {},
   "outputs": [
    {
     "name": "stdout",
     "output_type": "stream",
     "text": [
      "...................................................................................................................................................................................................................................................................................................................................................................................................................................................................................................\n",
      "New local min for {'n_par': 30, 'par_multiplicity': 1, 'n_iter': 1, 'cost_fn': 'energy', 'temperature': 1.0, 'stepsize': 1.0, 'init_par': None, 'dump_interval': None}\n",
      "cost= -2.828516493196111 accepted= True parameters= [1.5729571953408616, -4.264397270388386, 6.245536697999002, 8.989603967474903, -1.3107753591784628, -1.6315155378597235, -3.7072502364787967, 3.65393240076804, 2.673033495938002, -3.3369363266501355, -3.113389717763795, -3.4313355205801814, 9.000436047022886, 7.140249394706167, 0.038441914206781044, 0.6267628213131544, -1.3722767669842169, 1.6934066873316118, 1.4204009188301998, 5.126729497739265, 2.0111326196500614, -4.3769244115320305, 6.975595416389026, 8.350725746556755, 0.18839654316232074, -0.2969260196466365, 0.7657747750603494, -0.7527685408263952, 1.2831234284363542, 1.5482300799921986]\n",
      ".....................................................................................................................................................................................................................................................................................................................................................................................................................................................................................................................................................................\n",
      "New local min for {'n_par': 30, 'par_multiplicity': 1, 'n_iter': 1, 'cost_fn': 'energy', 'temperature': 1.0, 'stepsize': 1.0, 'init_par': None, 'dump_interval': None}\n",
      "cost= -2.7853285146462703 accepted= True parameters= [1.2135494238726947, -4.794397823668157, 6.50526404043285, 9.464334127308543, -3.269633849317856, -2.993965417959802, -4.027227880624237, 3.472495771321111, 3.2020116069316975, -1.8695347594382337, -2.96976930294748, -2.3395287201456916, 9.4510175865063, 4.294319489846963, 0.4861562498516768, 0.48634502651228967, -2.508980980474552, 3.8338662466450644, 1.6258915762961386, 1.3670277735806742, 0.6045739016149685, -4.832973239531919, 6.902301514413201, 7.059983306701492, 0.2235836558569761, 0.0036653764972371682, 0.17120756372426083, 0.03316402980960369, 2.1069855527665666, 0.5584616707699176]\n"
     ]
    }
   ],
   "source": [
    "#RUN THE VQE\n",
    "run_args.start=time()\n",
    "\n",
    "vqe_out,reg_psi=_HVQE.run_VQE(cmd_args,run_args,init_reg,gs_reg,reg_psi_list)\n",
    "reg_psi_list.append(reg_psi)\n",
    "\n",
    "if run_args.GPU==True:\n",
    "    qem.sync()\n",
    "run_args.end=time() \n",
    "# Wall-clock time of VQE (hours) \n",
    "run_args.wall_clock=(run_args.end-run_args.start)/60/60 \n"
   ]
  },
  {
   "cell_type": "code",
   "execution_count": 16,
   "metadata": {},
   "outputs": [
    {
     "name": "stdout",
     "output_type": "stream",
     "text": [
      " \n",
      "==========================================================================================\n",
      "Finished basinhopping of  ./output/chain_10 at 2021-12-19 10:05:28.925728 UTC, with\n",
      " \n",
      "{'n_par': 30, 'par_multiplicity': 1, 'n_iter': 1, 'cost_fn': 'energy', 'temperature': 1.0, 'stepsize': 1.0, 'init_par': None, 'dump_interval': None}\n",
      "init_par = [0.00016887235537258979, -0.0004050822001542901, -0.00010833217441583685, -1.0696641052465269e-05, 0.0001986984499865003, -5.4196129286006496e-05, -0.000325375246380069, 0.0004738862897072744, 0.000187883161534764, -0.0003701553842858652, -0.0004640368077130308, 0.00016837677723819246, 0.00028273016811776897, 0.00047247364033445555, -0.0003477180433463313, -0.0004099228349722578, -0.00026100279970503947, 0.0001653727106840342, -0.00019098491865864953, 0.00034508799155564206, -0.00010617588002438064, 0.00017240306611866416, -0.00042844008283398195, 0.00010723728298658896, 0.0003706723879064609, 0.0003255858275017326, 0.00025872514662955454, 0.0003469567766205499, 0.0004477590770290954, -0.00021479213650077802]\n",
      " \n",
      "RESULTS:\n",
      "--------\n",
      "E_VQE = -2.828516493196111\n",
      "inf_VQE = 0.9999377631504133\n",
      "n_fn_calls = 1032\n",
      "Wall-clock time 0.11210865669780308 hours\n",
      " \n",
      "For more output, see ./output/chain_10/output.txt\n",
      "Plots of output saved in ./output/chain_10\n",
      "End of HVQE.py\n",
      "==========================================================================================\n"
     ]
    }
   ],
   "source": [
    "# Get the infidelity and the energy of the final state irrespective of whether we used the energy or the infidelity as the cost functon.\n",
    "vqe_out.opt_parameters=ch.Variable(xp.array(vqe_out.opt_parameters))\n",
    "if cmd_args.cost_fn=='energy':\n",
    "    run_args.E_VQE=vqe_out.cost_VQE #Already a float\n",
    "    run_args.inf_VQE=_HVQE.infidelity_from_parameters(init_reg,run_args.layers,run_args.n,cmd_args.par_multiplicity,vqe_out.opt_parameters,gs_reg)\n",
    "    run_args.inf_VQE=float(run_args.inf_VQE.array)\n",
    "if cmd_args.cost_fn=='infidelity':\n",
    "    run_args.inf_VQE=vqe_out.cost_VQE #Already a float\n",
    "    run_args.E_VQE,reg_psi=_HVQE.Heisenberg_energy_from_parameters(run_args.complete_graph,init_reg,run_args.layers,run_args.n,cmd_args.par_multiplicity,vqe_out.opt_parameters)\n",
    "    run_args.E_VQE=float(run_args.E_VQE.array)\n",
    "\n",
    "vqe_out.opt_parameters=vqe_out.opt_parameters.array.tolist() #Convert for printing and storing.\n",
    "run_args.date_end=str(datetime.utcnow()) # End time in UTC\n",
    "\n",
    "\n",
    "# Write input and results to disk. If no former output exists, print a line explaining the data in the output file.\n",
    "\n",
    "output=str([vars(cmd_args),vars(run_args),vars(vqe_out)])\n",
    "\n",
    "if not os.path.exists(output_path+'/output_excite2.txt'):\n",
    "    f=open(output_path+'/output_excite2.txt', 'w')\n",
    "    f.write(\"### Output of the VQEs is written to this file. Note that the first local minimum is not included in the lists local_min_list,local_min_parameters_list and local_min_accept_list. See the comment at de function definition of 'callback' inside HVQE.py \\n\")\n",
    "with open(output_path+'/output_excite2.txt', 'a') as f:\n",
    "    f.write(output+'\\n\\n')\n",
    "\n",
    "print(' ')\n",
    "print('==========================================================================================')\n",
    "print('Finished basinhopping of ',output_path, 'at',run_args.date_end,'UTC, with')\n",
    "print(' ')\n",
    "print(vars(cmd_args))\n",
    "print('init_par =', vqe_out.init_par)\n",
    "print(' ')\n",
    "print('RESULTS:')\n",
    "print('--------')\n",
    "print('E_VQE =',run_args.E_VQE)\n",
    "print('inf_VQE =',run_args.inf_VQE)\n",
    "print('n_fn_calls =',vqe_out.n_fn_calls)\n",
    "print('Wall-clock time', run_args.wall_clock, 'hours')\n",
    "print(' ')\n",
    "print('For more output, see',output_path+'/output.txt')\n",
    "print('Plots of output saved in',output_path)\n",
    "print('End of HVQE.py')\n",
    "print('==========================================================================================')"
   ]
  },
  {
   "cell_type": "code",
   "execution_count": 17,
   "metadata": {},
   "outputs": [],
   "source": [
    "# Get the infidelity and the energy of the final state irrespective of whether we used the energy or the infidelity as the cost functon.\n",
    "vqe_out.opt_parameters=ch.Variable(xp.array(vqe_out.opt_parameters))\n",
    "if cmd_args.cost_fn=='energy':\n",
    "    run_args.E_VQE=vqe_out.cost_VQE #Already a float\n",
    "    run_args.inf_VQE=_HVQE.infidelity_from_parameters(init_reg,run_args.layers,run_args.n,cmd_args.par_multiplicity,vqe_out.opt_parameters,gs_reg)\n",
    "    run_args.inf_VQE=float(run_args.inf_VQE.array)\n",
    "if cmd_args.cost_fn=='infidelity':\n",
    "    run_args.inf_VQE=vqe_out.cost_VQE #Already a float\n",
    "    run_args.E_VQE,reg_psi=_HVQE.Heisenberg_energy_from_parameters(run_args.complete_graph,init_reg,run_args.layers,run_args.n,cmd_args.par_multiplicity,vqe_out.opt_parameters)\n",
    "    run_args.E_VQE=float(run_args.E_VQE.array)\n",
    "\n",
    "vqe_out.opt_parameters=vqe_out.opt_parameters.array.tolist() #Convert for printing and storing.\n",
    "run_args.date_end=str(datetime.utcnow()) # End time in UTC"
   ]
  },
  {
   "cell_type": "code",
   "execution_count": 18,
   "metadata": {},
   "outputs": [
    {
     "name": "stdout",
     "output_type": "stream",
     "text": [
      " \n",
      "==========================================================================================\n",
      "Finished basinhopping of  ./output/chain_10 at 2021-12-19 10:05:29.033350 UTC, with\n",
      " \n",
      "{'n_par': 30, 'par_multiplicity': 1, 'n_iter': 1, 'cost_fn': 'energy', 'temperature': 1.0, 'stepsize': 1.0, 'init_par': None, 'dump_interval': None}\n",
      "init_par = [0.00016887235537258979, -0.0004050822001542901, -0.00010833217441583685, -1.0696641052465269e-05, 0.0001986984499865003, -5.4196129286006496e-05, -0.000325375246380069, 0.0004738862897072744, 0.000187883161534764, -0.0003701553842858652, -0.0004640368077130308, 0.00016837677723819246, 0.00028273016811776897, 0.00047247364033445555, -0.0003477180433463313, -0.0004099228349722578, -0.00026100279970503947, 0.0001653727106840342, -0.00019098491865864953, 0.00034508799155564206, -0.00010617588002438064, 0.00017240306611866416, -0.00042844008283398195, 0.00010723728298658896, 0.0003706723879064609, 0.0003255858275017326, 0.00025872514662955454, 0.0003469567766205499, 0.0004477590770290954, -0.00021479213650077802]\n",
      " \n",
      "RESULTS:\n",
      "--------\n",
      "E_VQE = -2.828516493196111\n",
      "inf_VQE = 0.9999377631504133\n",
      "n_fn_calls = 1032\n",
      "Wall-clock time 0.11210865669780308 hours\n",
      " \n",
      "For more output, see ./output/chain_10/output.txt\n",
      "Plots of output saved in ./output/chain_10\n",
      "End of HVQE.py\n",
      "==========================================================================================\n"
     ]
    },
    {
     "data": {
      "image/png": "[encoded data removed]",
      "text/plain": [
       "<Figure size 432x288 with 1 Axes>"
      ]
     },
     "metadata": {
      "needs_background": "light"
     },
     "output_type": "display_data"
    },
    {
     "data": {
      "image/png": "[encoded data removed]",
      "text/plain": [
       "<Figure size 432x288 with 1 Axes>"
      ]
     },
     "metadata": {
      "needs_background": "light"
     },
     "output_type": "display_data"
    },
    {
     "data": {
      "image/png": "[encoded data removed]",
      "text/plain": [
       "<Figure size 432x288 with 1 Axes>"
      ]
     },
     "metadata": {
      "needs_background": "light"
     },
     "output_type": "display_data"
    }
   ],
   "source": [
    "# Write input and results to disk. If no former output exists, print a line explaining the data in the output file.\n",
    "\n",
    "output=str([vars(cmd_args),vars(run_args),vars(vqe_out)])\n",
    "\n",
    "if not os.path.exists(output_path+'/output.txt'):\n",
    "    f=open(output_path+'/output.txt', 'w')\n",
    "    f.write(\"### Output of the VQEs is written to this file. Note that the first local minimum is not included in the lists local_min_list,local_min_parameters_list and local_min_accept_list. See the comment at de function definition of 'callback' inside HVQE.py \\n\")\n",
    "with open(output_path+'/output.txt', 'a') as f:\n",
    "    f.write(output+'\\n\\n')\n",
    "\n",
    "# Update plot of datapoints\n",
    "gates_per_cycle=len([edge for layer in run_args.layers for edge in layer])\n",
    "_HVQE.plot_VQE_data(output_path,'energy',cmd_args.par_multiplicity,gates_per_cycle)\n",
    "_HVQE.plot_VQE_data(output_path,'infidelity',cmd_args.par_multiplicity,gates_per_cycle)\n",
    "_HVQE.plot_VQE_data(output_path,'wall_clock',cmd_args.par_multiplicity,gates_per_cycle)\n",
    "\n",
    "# Write input and results to stdout\n",
    "print(' ')\n",
    "print('==========================================================================================')\n",
    "print('Finished basinhopping of ',output_path, 'at',run_args.date_end,'UTC, with')\n",
    "print(' ')\n",
    "print(vars(cmd_args))\n",
    "print('init_par =', vqe_out.init_par)\n",
    "print(' ')\n",
    "print('RESULTS:')\n",
    "print('--------')\n",
    "print('E_VQE =',run_args.E_VQE)\n",
    "print('inf_VQE =',run_args.inf_VQE)\n",
    "print('n_fn_calls =',vqe_out.n_fn_calls)\n",
    "print('Wall-clock time', run_args.wall_clock, 'hours')\n",
    "print(' ')\n",
    "print('For more output, see',output_path+'/output.txt')\n",
    "print('Plots of output saved in',output_path)\n",
    "print('End of HVQE.py')\n",
    "print('==========================================================================================')\n"
   ]
  },
  {
   "cell_type": "code",
   "execution_count": null,
   "metadata": {},
   "outputs": [],
   "source": []
  }
 ],
 "metadata": {
  "interpreter": {
   "hash": "45da939de24dcc6e596baa555abc40f55a97cfa23e2ec44c1382652c43fdf70a"
  },
  "kernelspec": {
   "display_name": "Python 3.9.7 64-bit ('HVQE': conda)",
   "language": "python",
   "name": "python3"
  },
  "language_info": {
   "codemirror_mode": {
    "name": "ipython",
    "version": 3
   },
   "file_extension": ".py",
   "mimetype": "text/x-python",
   "name": "python",
   "nbconvert_exporter": "python",
   "pygments_lexer": "ipython3",
   "version": "3.9.7"
  },
  "orig_nbformat": 4
 },
 "nbformat": 4,
 "nbformat_minor": 2
}
